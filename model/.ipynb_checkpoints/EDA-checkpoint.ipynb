{
 "cells": [
  {
   "cell_type": "code",
   "execution_count": 318,
   "metadata": {},
   "outputs": [],
   "source": [
    "import numpy as np\n",
    "import pandas as pd\n",
    "import matplotlib.pyplot as plt\n",
    "import seaborn as sns"
   ]
  },
  {
   "cell_type": "code",
   "execution_count": 319,
   "metadata": {},
   "outputs": [],
   "source": [
    "train  = pd.read_csv('../data_set/train.csv')"
   ]
  },
  {
   "cell_type": "code",
   "execution_count": 320,
   "metadata": {},
   "outputs": [
    {
     "data": {
      "text/html": [
       "<div>\n",
       "<style scoped>\n",
       "    .dataframe tbody tr th:only-of-type {\n",
       "        vertical-align: middle;\n",
       "    }\n",
       "\n",
       "    .dataframe tbody tr th {\n",
       "        vertical-align: top;\n",
       "    }\n",
       "\n",
       "    .dataframe thead th {\n",
       "        text-align: right;\n",
       "    }\n",
       "</style>\n",
       "<table border=\"1\" class=\"dataframe\">\n",
       "  <thead>\n",
       "    <tr style=\"text-align: right;\">\n",
       "      <th></th>\n",
       "      <th>building_id</th>\n",
       "      <th>building_material</th>\n",
       "      <th>city</th>\n",
       "      <th>txn_dt</th>\n",
       "      <th>total_floor</th>\n",
       "      <th>building_type</th>\n",
       "      <th>building_use</th>\n",
       "      <th>building_complete_dt</th>\n",
       "      <th>parking_way</th>\n",
       "      <th>parking_area</th>\n",
       "      <th>...</th>\n",
       "      <th>XIV_index_500</th>\n",
       "      <th>XIV_1000</th>\n",
       "      <th>XIV_index_1000</th>\n",
       "      <th>XIV_5000</th>\n",
       "      <th>XIV_index_5000</th>\n",
       "      <th>XIV_10000</th>\n",
       "      <th>XIV_index_10000</th>\n",
       "      <th>XIV_MIN</th>\n",
       "      <th>total_price</th>\n",
       "      <th>address</th>\n",
       "    </tr>\n",
       "  </thead>\n",
       "  <tbody>\n",
       "    <tr>\n",
       "      <th>0</th>\n",
       "      <td>e3mMIMR3JJqCaXz1</td>\n",
       "      <td>8</td>\n",
       "      <td>21</td>\n",
       "      <td>18674</td>\n",
       "      <td>4</td>\n",
       "      <td>3</td>\n",
       "      <td>2</td>\n",
       "      <td>6271</td>\n",
       "      <td>2</td>\n",
       "      <td>NaN</td>\n",
       "      <td>...</td>\n",
       "      <td>1</td>\n",
       "      <td>157</td>\n",
       "      <td>1</td>\n",
       "      <td>2483</td>\n",
       "      <td>1</td>\n",
       "      <td>6011</td>\n",
       "      <td>1</td>\n",
       "      <td>34.469803</td>\n",
       "      <td>6.476038e+05</td>\n",
       "      <td>213343132</td>\n",
       "    </tr>\n",
       "    <tr>\n",
       "      <th>1</th>\n",
       "      <td>LgwzgklNvy4QCtq5</td>\n",
       "      <td>8</td>\n",
       "      <td>7</td>\n",
       "      <td>18800</td>\n",
       "      <td>5</td>\n",
       "      <td>1</td>\n",
       "      <td>2</td>\n",
       "      <td>7885</td>\n",
       "      <td>2</td>\n",
       "      <td>NaN</td>\n",
       "      <td>...</td>\n",
       "      <td>1</td>\n",
       "      <td>115</td>\n",
       "      <td>1</td>\n",
       "      <td>15872</td>\n",
       "      <td>1</td>\n",
       "      <td>32221</td>\n",
       "      <td>1</td>\n",
       "      <td>40.073573</td>\n",
       "      <td>3.321452e+06</td>\n",
       "      <td>7180921</td>\n",
       "    </tr>\n",
       "    <tr>\n",
       "      <th>2</th>\n",
       "      <td>ucIR2NLLsC3T650L</td>\n",
       "      <td>8</td>\n",
       "      <td>7</td>\n",
       "      <td>19289</td>\n",
       "      <td>4</td>\n",
       "      <td>1</td>\n",
       "      <td>2</td>\n",
       "      <td>6028</td>\n",
       "      <td>2</td>\n",
       "      <td>NaN</td>\n",
       "      <td>...</td>\n",
       "      <td>1</td>\n",
       "      <td>212</td>\n",
       "      <td>1</td>\n",
       "      <td>15760</td>\n",
       "      <td>1</td>\n",
       "      <td>32228</td>\n",
       "      <td>1</td>\n",
       "      <td>54.462081</td>\n",
       "      <td>9.570885e+06</td>\n",
       "      <td>71801544</td>\n",
       "    </tr>\n",
       "    <tr>\n",
       "      <th>3</th>\n",
       "      <td>jre1pJhcQj91Kdky</td>\n",
       "      <td>8</td>\n",
       "      <td>21</td>\n",
       "      <td>20385</td>\n",
       "      <td>24</td>\n",
       "      <td>0</td>\n",
       "      <td>2</td>\n",
       "      <td>18325</td>\n",
       "      <td>0</td>\n",
       "      <td>NaN</td>\n",
       "      <td>...</td>\n",
       "      <td>1</td>\n",
       "      <td>125</td>\n",
       "      <td>1</td>\n",
       "      <td>2568</td>\n",
       "      <td>1</td>\n",
       "      <td>7271</td>\n",
       "      <td>1</td>\n",
       "      <td>99.628966</td>\n",
       "      <td>1.421501e+07</td>\n",
       "      <td>213433350</td>\n",
       "    </tr>\n",
       "    <tr>\n",
       "      <th>4</th>\n",
       "      <td>rQpYpY9nRG7X5mmr</td>\n",
       "      <td>1</td>\n",
       "      <td>21</td>\n",
       "      <td>20657</td>\n",
       "      <td>2</td>\n",
       "      <td>4</td>\n",
       "      <td>2</td>\n",
       "      <td>6880</td>\n",
       "      <td>2</td>\n",
       "      <td>NaN</td>\n",
       "      <td>...</td>\n",
       "      <td>1</td>\n",
       "      <td>47</td>\n",
       "      <td>1</td>\n",
       "      <td>2587</td>\n",
       "      <td>1</td>\n",
       "      <td>7442</td>\n",
       "      <td>1</td>\n",
       "      <td>124.131236</td>\n",
       "      <td>7.627120e+05</td>\n",
       "      <td>2110263</td>\n",
       "    </tr>\n",
       "  </tbody>\n",
       "</table>\n",
       "<p>5 rows × 236 columns</p>\n",
       "</div>"
      ],
      "text/plain": [
       "        building_id  building_material  city  txn_dt  total_floor  \\\n",
       "0  e3mMIMR3JJqCaXz1                  8    21   18674            4   \n",
       "1  LgwzgklNvy4QCtq5                  8     7   18800            5   \n",
       "2  ucIR2NLLsC3T650L                  8     7   19289            4   \n",
       "3  jre1pJhcQj91Kdky                  8    21   20385           24   \n",
       "4  rQpYpY9nRG7X5mmr                  1    21   20657            2   \n",
       "\n",
       "   building_type  building_use  building_complete_dt  parking_way  \\\n",
       "0              3             2                  6271            2   \n",
       "1              1             2                  7885            2   \n",
       "2              1             2                  6028            2   \n",
       "3              0             2                 18325            0   \n",
       "4              4             2                  6880            2   \n",
       "\n",
       "   parking_area  ...  XIV_index_500  XIV_1000  XIV_index_1000  XIV_5000  \\\n",
       "0           NaN  ...              1       157               1      2483   \n",
       "1           NaN  ...              1       115               1     15872   \n",
       "2           NaN  ...              1       212               1     15760   \n",
       "3           NaN  ...              1       125               1      2568   \n",
       "4           NaN  ...              1        47               1      2587   \n",
       "\n",
       "   XIV_index_5000  XIV_10000  XIV_index_10000     XIV_MIN   total_price  \\\n",
       "0               1       6011                1   34.469803  6.476038e+05   \n",
       "1               1      32221                1   40.073573  3.321452e+06   \n",
       "2               1      32228                1   54.462081  9.570885e+06   \n",
       "3               1       7271                1   99.628966  1.421501e+07   \n",
       "4               1       7442                1  124.131236  7.627120e+05   \n",
       "\n",
       "     address  \n",
       "0  213343132  \n",
       "1    7180921  \n",
       "2   71801544  \n",
       "3  213433350  \n",
       "4    2110263  \n",
       "\n",
       "[5 rows x 236 columns]"
      ]
     },
     "execution_count": 320,
     "metadata": {},
     "output_type": "execute_result"
    }
   ],
   "source": [
    "train.head()"
   ]
  },
  {
   "cell_type": "markdown",
   "metadata": {},
   "source": [
    "# 打亂數據之後抽取出test_set"
   ]
  },
  {
   "cell_type": "code",
   "execution_count": 321,
   "metadata": {},
   "outputs": [],
   "source": [
    "#train = train.sample(frac=1)\n",
    "#test = train.iloc[50000:,:]\n",
    "#train = train.iloc[:50000,:]"
   ]
  },
  {
   "cell_type": "markdown",
   "metadata": {},
   "source": [
    "# 觀察資料test_set"
   ]
  },
  {
   "cell_type": "code",
   "execution_count": 322,
   "metadata": {},
   "outputs": [],
   "source": [
    "#train.head()"
   ]
  },
  {
   "cell_type": "code",
   "execution_count": 323,
   "metadata": {},
   "outputs": [],
   "source": [
    "#test.head()"
   ]
  },
  {
   "cell_type": "markdown",
   "metadata": {},
   "source": [
    "# 觀察資料型態"
   ]
  },
  {
   "cell_type": "code",
   "execution_count": 324,
   "metadata": {},
   "outputs": [
    {
     "name": "stdout",
     "output_type": "stream",
     "text": [
      "<class 'pandas.core.frame.DataFrame'>\n",
      "RangeIndex: 60000 entries, 0 to 59999\n",
      "Columns: 236 entries, building_id to address\n",
      "dtypes: float64(35), int64(200), object(1)\n",
      "memory usage: 108.0+ MB\n"
     ]
    }
   ],
   "source": [
    "train.info()"
   ]
  },
  {
   "cell_type": "code",
   "execution_count": 325,
   "metadata": {},
   "outputs": [
    {
     "data": {
      "text/html": [
       "<div>\n",
       "<style scoped>\n",
       "    .dataframe tbody tr th:only-of-type {\n",
       "        vertical-align: middle;\n",
       "    }\n",
       "\n",
       "    .dataframe tbody tr th {\n",
       "        vertical-align: top;\n",
       "    }\n",
       "\n",
       "    .dataframe thead th {\n",
       "        text-align: right;\n",
       "    }\n",
       "</style>\n",
       "<table border=\"1\" class=\"dataframe\">\n",
       "  <thead>\n",
       "    <tr style=\"text-align: right;\">\n",
       "      <th></th>\n",
       "      <th>building_material</th>\n",
       "      <th>city</th>\n",
       "      <th>txn_dt</th>\n",
       "      <th>total_floor</th>\n",
       "      <th>building_type</th>\n",
       "      <th>building_use</th>\n",
       "      <th>building_complete_dt</th>\n",
       "      <th>parking_way</th>\n",
       "      <th>parking_area</th>\n",
       "      <th>parking_price</th>\n",
       "      <th>...</th>\n",
       "      <th>XIV_index_500</th>\n",
       "      <th>XIV_1000</th>\n",
       "      <th>XIV_index_1000</th>\n",
       "      <th>XIV_5000</th>\n",
       "      <th>XIV_index_5000</th>\n",
       "      <th>XIV_10000</th>\n",
       "      <th>XIV_index_10000</th>\n",
       "      <th>XIV_MIN</th>\n",
       "      <th>total_price</th>\n",
       "      <th>address</th>\n",
       "    </tr>\n",
       "  </thead>\n",
       "  <tbody>\n",
       "    <tr>\n",
       "      <th>count</th>\n",
       "      <td>60000.000000</td>\n",
       "      <td>60000.000000</td>\n",
       "      <td>60000.000000</td>\n",
       "      <td>60000.000000</td>\n",
       "      <td>60000.000000</td>\n",
       "      <td>60000.000000</td>\n",
       "      <td>60000.000000</td>\n",
       "      <td>60000.000000</td>\n",
       "      <td>3103.000000</td>\n",
       "      <td>1.393500e+04</td>\n",
       "      <td>...</td>\n",
       "      <td>60000.000000</td>\n",
       "      <td>60000.000000</td>\n",
       "      <td>60000.000000</td>\n",
       "      <td>60000.000000</td>\n",
       "      <td>60000.0</td>\n",
       "      <td>60000.000000</td>\n",
       "      <td>60000.0</td>\n",
       "      <td>60000.000000</td>\n",
       "      <td>6.000000e+04</td>\n",
       "      <td>6.000000e+04</td>\n",
       "    </tr>\n",
       "    <tr>\n",
       "      <th>mean</th>\n",
       "      <td>7.267917</td>\n",
       "      <td>11.414533</td>\n",
       "      <td>19488.957917</td>\n",
       "      <td>7.638250</td>\n",
       "      <td>1.931817</td>\n",
       "      <td>2.319200</td>\n",
       "      <td>11050.437183</td>\n",
       "      <td>1.585700</td>\n",
       "      <td>7.211837</td>\n",
       "      <td>5.025058e+04</td>\n",
       "      <td>...</td>\n",
       "      <td>0.995800</td>\n",
       "      <td>252.823100</td>\n",
       "      <td>0.999867</td>\n",
       "      <td>5276.668033</td>\n",
       "      <td>1.0</td>\n",
       "      <td>16474.836600</td>\n",
       "      <td>1.0</td>\n",
       "      <td>101.044751</td>\n",
       "      <td>1.293727e+07</td>\n",
       "      <td>5.616432e+07</td>\n",
       "    </tr>\n",
       "    <tr>\n",
       "      <th>std</th>\n",
       "      <td>2.170741</td>\n",
       "      <td>4.751677</td>\n",
       "      <td>727.331019</td>\n",
       "      <td>5.070314</td>\n",
       "      <td>1.589972</td>\n",
       "      <td>1.399528</td>\n",
       "      <td>4344.018090</td>\n",
       "      <td>0.778952</td>\n",
       "      <td>20.453902</td>\n",
       "      <td>3.973488e+04</td>\n",
       "      <td>...</td>\n",
       "      <td>0.064672</td>\n",
       "      <td>322.694074</td>\n",
       "      <td>0.011546</td>\n",
       "      <td>3856.219059</td>\n",
       "      <td>0.0</td>\n",
       "      <td>8998.020659</td>\n",
       "      <td>0.0</td>\n",
       "      <td>80.216061</td>\n",
       "      <td>5.522463e+07</td>\n",
       "      <td>6.374519e+07</td>\n",
       "    </tr>\n",
       "    <tr>\n",
       "      <th>min</th>\n",
       "      <td>1.000000</td>\n",
       "      <td>3.000000</td>\n",
       "      <td>18112.000000</td>\n",
       "      <td>1.000000</td>\n",
       "      <td>0.000000</td>\n",
       "      <td>0.000000</td>\n",
       "      <td>123.000000</td>\n",
       "      <td>0.000000</td>\n",
       "      <td>0.000000</td>\n",
       "      <td>0.000000e+00</td>\n",
       "      <td>...</td>\n",
       "      <td>0.000000</td>\n",
       "      <td>0.000000</td>\n",
       "      <td>0.000000</td>\n",
       "      <td>19.000000</td>\n",
       "      <td>1.0</td>\n",
       "      <td>30.000000</td>\n",
       "      <td>1.0</td>\n",
       "      <td>0.064766</td>\n",
       "      <td>2.261495e+05</td>\n",
       "      <td>6.304000e+03</td>\n",
       "    </tr>\n",
       "    <tr>\n",
       "      <th>25%</th>\n",
       "      <td>8.000000</td>\n",
       "      <td>7.000000</td>\n",
       "      <td>18892.750000</td>\n",
       "      <td>4.000000</td>\n",
       "      <td>0.000000</td>\n",
       "      <td>2.000000</td>\n",
       "      <td>7186.000000</td>\n",
       "      <td>2.000000</td>\n",
       "      <td>3.738412</td>\n",
       "      <td>2.827238e+04</td>\n",
       "      <td>...</td>\n",
       "      <td>1.000000</td>\n",
       "      <td>88.000000</td>\n",
       "      <td>1.000000</td>\n",
       "      <td>2672.000000</td>\n",
       "      <td>1.0</td>\n",
       "      <td>8859.000000</td>\n",
       "      <td>1.0</td>\n",
       "      <td>49.182384</td>\n",
       "      <td>2.433114e+06</td>\n",
       "      <td>7.196527e+06</td>\n",
       "    </tr>\n",
       "    <tr>\n",
       "      <th>50%</th>\n",
       "      <td>8.000000</td>\n",
       "      <td>12.000000</td>\n",
       "      <td>19527.000000</td>\n",
       "      <td>5.000000</td>\n",
       "      <td>1.000000</td>\n",
       "      <td>2.000000</td>\n",
       "      <td>11507.000000</td>\n",
       "      <td>2.000000</td>\n",
       "      <td>5.758023</td>\n",
       "      <td>4.379195e+04</td>\n",
       "      <td>...</td>\n",
       "      <td>1.000000</td>\n",
       "      <td>154.000000</td>\n",
       "      <td>1.000000</td>\n",
       "      <td>3942.000000</td>\n",
       "      <td>1.0</td>\n",
       "      <td>14344.000000</td>\n",
       "      <td>1.0</td>\n",
       "      <td>83.216237</td>\n",
       "      <td>5.240482e+06</td>\n",
       "      <td>1.417486e+07</td>\n",
       "    </tr>\n",
       "    <tr>\n",
       "      <th>75%</th>\n",
       "      <td>8.000000</td>\n",
       "      <td>13.000000</td>\n",
       "      <td>20125.000000</td>\n",
       "      <td>12.000000</td>\n",
       "      <td>4.000000</td>\n",
       "      <td>2.000000</td>\n",
       "      <td>14519.000000</td>\n",
       "      <td>2.000000</td>\n",
       "      <td>7.180619</td>\n",
       "      <td>6.148857e+04</td>\n",
       "      <td>...</td>\n",
       "      <td>1.000000</td>\n",
       "      <td>275.000000</td>\n",
       "      <td>1.000000</td>\n",
       "      <td>6647.000000</td>\n",
       "      <td>1.0</td>\n",
       "      <td>23459.250000</td>\n",
       "      <td>1.0</td>\n",
       "      <td>130.779416</td>\n",
       "      <td>1.123932e+07</td>\n",
       "      <td>1.013912e+08</td>\n",
       "    </tr>\n",
       "    <tr>\n",
       "      <th>max</th>\n",
       "      <td>11.000000</td>\n",
       "      <td>21.000000</td>\n",
       "      <td>20665.000000</td>\n",
       "      <td>29.000000</td>\n",
       "      <td>4.000000</td>\n",
       "      <td>10.000000</td>\n",
       "      <td>20577.000000</td>\n",
       "      <td>2.000000</td>\n",
       "      <td>967.370868</td>\n",
       "      <td>1.020404e+06</td>\n",
       "      <td>...</td>\n",
       "      <td>1.000000</td>\n",
       "      <td>3463.000000</td>\n",
       "      <td>1.000000</td>\n",
       "      <td>18268.000000</td>\n",
       "      <td>1.0</td>\n",
       "      <td>32908.000000</td>\n",
       "      <td>1.0</td>\n",
       "      <td>1106.382478</td>\n",
       "      <td>5.088279e+09</td>\n",
       "      <td>2.134334e+08</td>\n",
       "    </tr>\n",
       "  </tbody>\n",
       "</table>\n",
       "<p>8 rows × 235 columns</p>\n",
       "</div>"
      ],
      "text/plain": [
       "       building_material          city        txn_dt   total_floor  \\\n",
       "count       60000.000000  60000.000000  60000.000000  60000.000000   \n",
       "mean            7.267917     11.414533  19488.957917      7.638250   \n",
       "std             2.170741      4.751677    727.331019      5.070314   \n",
       "min             1.000000      3.000000  18112.000000      1.000000   \n",
       "25%             8.000000      7.000000  18892.750000      4.000000   \n",
       "50%             8.000000     12.000000  19527.000000      5.000000   \n",
       "75%             8.000000     13.000000  20125.000000     12.000000   \n",
       "max            11.000000     21.000000  20665.000000     29.000000   \n",
       "\n",
       "       building_type  building_use  building_complete_dt   parking_way  \\\n",
       "count   60000.000000  60000.000000          60000.000000  60000.000000   \n",
       "mean        1.931817      2.319200          11050.437183      1.585700   \n",
       "std         1.589972      1.399528           4344.018090      0.778952   \n",
       "min         0.000000      0.000000            123.000000      0.000000   \n",
       "25%         0.000000      2.000000           7186.000000      2.000000   \n",
       "50%         1.000000      2.000000          11507.000000      2.000000   \n",
       "75%         4.000000      2.000000          14519.000000      2.000000   \n",
       "max         4.000000     10.000000          20577.000000      2.000000   \n",
       "\n",
       "       parking_area  parking_price  ...  XIV_index_500      XIV_1000  \\\n",
       "count   3103.000000   1.393500e+04  ...   60000.000000  60000.000000   \n",
       "mean       7.211837   5.025058e+04  ...       0.995800    252.823100   \n",
       "std       20.453902   3.973488e+04  ...       0.064672    322.694074   \n",
       "min        0.000000   0.000000e+00  ...       0.000000      0.000000   \n",
       "25%        3.738412   2.827238e+04  ...       1.000000     88.000000   \n",
       "50%        5.758023   4.379195e+04  ...       1.000000    154.000000   \n",
       "75%        7.180619   6.148857e+04  ...       1.000000    275.000000   \n",
       "max      967.370868   1.020404e+06  ...       1.000000   3463.000000   \n",
       "\n",
       "       XIV_index_1000      XIV_5000  XIV_index_5000     XIV_10000  \\\n",
       "count    60000.000000  60000.000000         60000.0  60000.000000   \n",
       "mean         0.999867   5276.668033             1.0  16474.836600   \n",
       "std          0.011546   3856.219059             0.0   8998.020659   \n",
       "min          0.000000     19.000000             1.0     30.000000   \n",
       "25%          1.000000   2672.000000             1.0   8859.000000   \n",
       "50%          1.000000   3942.000000             1.0  14344.000000   \n",
       "75%          1.000000   6647.000000             1.0  23459.250000   \n",
       "max          1.000000  18268.000000             1.0  32908.000000   \n",
       "\n",
       "       XIV_index_10000       XIV_MIN   total_price       address  \n",
       "count          60000.0  60000.000000  6.000000e+04  6.000000e+04  \n",
       "mean               1.0    101.044751  1.293727e+07  5.616432e+07  \n",
       "std                0.0     80.216061  5.522463e+07  6.374519e+07  \n",
       "min                1.0      0.064766  2.261495e+05  6.304000e+03  \n",
       "25%                1.0     49.182384  2.433114e+06  7.196527e+06  \n",
       "50%                1.0     83.216237  5.240482e+06  1.417486e+07  \n",
       "75%                1.0    130.779416  1.123932e+07  1.013912e+08  \n",
       "max                1.0   1106.382478  5.088279e+09  2.134334e+08  \n",
       "\n",
       "[8 rows x 235 columns]"
      ]
     },
     "execution_count": 325,
     "metadata": {},
     "output_type": "execute_result"
    }
   ],
   "source": [
    "train.describe()"
   ]
  },
  {
   "cell_type": "markdown",
   "metadata": {},
   "source": [
    "# 檢查是否存在遺漏值"
   ]
  },
  {
   "cell_type": "code",
   "execution_count": 326,
   "metadata": {},
   "outputs": [],
   "source": [
    "nacol = set(train.columns) - set(train.dropna(axis=1).columns)"
   ]
  },
  {
   "cell_type": "code",
   "execution_count": 327,
   "metadata": {},
   "outputs": [
    {
     "data": {
      "text/plain": [
       "{'parking_area', 'parking_price', 'txn_floor', 'village_income_median'}"
      ]
     },
     "execution_count": 327,
     "metadata": {},
     "output_type": "execute_result"
    }
   ],
   "source": [
    "nacol"
   ]
  },
  {
   "cell_type": "markdown",
   "metadata": {},
   "source": [
    "# 可以下列特徵存在遺漏值\n",
    "\n",
    "## {'parking_area', 'parking_price', 'txn_floor', 'village_income_median'}\n"
   ]
  },
  {
   "cell_type": "markdown",
   "metadata": {},
   "source": [
    "# 分別針對各個遺漏值分析"
   ]
  },
  {
   "cell_type": "markdown",
   "metadata": {},
   "source": [
    "# parking_area "
   ]
  },
  {
   "cell_type": "code",
   "execution_count": 328,
   "metadata": {},
   "outputs": [
    {
     "data": {
      "text/plain": [
       "count    3103.000000\n",
       "mean        7.211837\n",
       "std        20.453902\n",
       "min         0.000000\n",
       "25%         3.738412\n",
       "50%         5.758023\n",
       "75%         7.180619\n",
       "max       967.370868\n",
       "Name: parking_area, dtype: float64"
      ]
     },
     "execution_count": 328,
     "metadata": {},
     "output_type": "execute_result"
    }
   ],
   "source": [
    "train['parking_area'].describe()"
   ]
  },
  {
   "cell_type": "markdown",
   "metadata": {},
   "source": [
    "## 顯示50000筆資料中 只有2597筆資料非遺漏值\n",
    "\n",
    "## 此情況會選擇刪除整個特徵"
   ]
  },
  {
   "cell_type": "code",
   "execution_count": 329,
   "metadata": {},
   "outputs": [],
   "source": [
    "train = train.drop('parking_area',axis=1)"
   ]
  },
  {
   "cell_type": "markdown",
   "metadata": {},
   "source": [
    "# parking_price"
   ]
  },
  {
   "cell_type": "code",
   "execution_count": 330,
   "metadata": {},
   "outputs": [
    {
     "data": {
      "text/plain": [
       "count    1.393500e+04\n",
       "mean     5.025058e+04\n",
       "std      3.973488e+04\n",
       "min      0.000000e+00\n",
       "25%      2.827238e+04\n",
       "50%      4.379195e+04\n",
       "75%      6.148857e+04\n",
       "max      1.020404e+06\n",
       "Name: parking_price, dtype: float64"
      ]
     },
     "execution_count": 330,
     "metadata": {},
     "output_type": "execute_result"
    }
   ],
   "source": [
    "train['parking_price'].describe()"
   ]
  },
  {
   "cell_type": "markdown",
   "metadata": {},
   "source": [
    "## 顯示50000筆資料中 有116450筆資料非遺漏值"
   ]
  },
  {
   "cell_type": "markdown",
   "metadata": {},
   "source": [
    "## 畫hist plot 觀察"
   ]
  },
  {
   "cell_type": "code",
   "execution_count": 331,
   "metadata": {},
   "outputs": [
    {
     "name": "stderr",
     "output_type": "stream",
     "text": [
      "C:\\Users\\USER\\Anaconda3\\lib\\site-packages\\numpy\\lib\\histograms.py:824: RuntimeWarning: invalid value encountered in greater_equal\n",
      "  keep = (tmp_a >= first_edge)\n",
      "C:\\Users\\USER\\Anaconda3\\lib\\site-packages\\numpy\\lib\\histograms.py:825: RuntimeWarning: invalid value encountered in less_equal\n",
      "  keep &= (tmp_a <= last_edge)\n"
     ]
    },
    {
     "data": {
      "text/plain": [
       "(array([1.2839e+04, 9.1400e+02, 1.7700e+02, 3.0000e+00, 0.0000e+00,\n",
       "        0.0000e+00, 0.0000e+00, 0.0000e+00, 0.0000e+00, 2.0000e+00]),\n",
       " array([      0.    ,  102040.3987,  204080.7974,  306121.1961,\n",
       "         408161.5948,  510201.9935,  612242.3922,  714282.7909,\n",
       "         816323.1896,  918363.5883, 1020403.987 ]),\n",
       " <a list of 10 Patch objects>)"
      ]
     },
     "execution_count": 331,
     "metadata": {},
     "output_type": "execute_result"
    },
    {
     "data": {
      "image/png": "[encoded data removed]",
      "text/plain": [
       "<Figure size 432x288 with 1 Axes>"
      ]
     },
     "metadata": {},
     "output_type": "display_data"
    }
   ],
   "source": [
    "plt.hist(train['parking_price'])"
   ]
  },
  {
   "cell_type": "markdown",
   "metadata": {},
   "source": [
    "## 暫時先使用，我們推斷parking_price 為遺漏值應該是沒有停車位導致，所以我們以0填入"
   ]
  },
  {
   "cell_type": "code",
   "execution_count": 332,
   "metadata": {},
   "outputs": [],
   "source": [
    "train[\"parking_price\"] = train[\"parking_price\"].fillna(0)"
   ]
  },
  {
   "cell_type": "code",
   "execution_count": 333,
   "metadata": {},
   "outputs": [
    {
     "data": {
      "text/plain": [
       "count    6.000000e+04\n",
       "mean     1.167070e+04\n",
       "std      2.858202e+04\n",
       "min      0.000000e+00\n",
       "25%      0.000000e+00\n",
       "50%      0.000000e+00\n",
       "75%      0.000000e+00\n",
       "max      1.020404e+06\n",
       "Name: parking_price, dtype: float64"
      ]
     },
     "execution_count": 333,
     "metadata": {},
     "output_type": "execute_result"
    }
   ],
   "source": [
    "train['parking_price'].describe()"
   ]
  },
  {
   "cell_type": "code",
   "execution_count": 334,
   "metadata": {},
   "outputs": [
    {
     "data": {
      "text/plain": [
       "(array([5.8904e+04, 9.1400e+02, 1.7700e+02, 3.0000e+00, 0.0000e+00,\n",
       "        0.0000e+00, 0.0000e+00, 0.0000e+00, 0.0000e+00, 2.0000e+00]),\n",
       " array([      0.    ,  102040.3987,  204080.7974,  306121.1961,\n",
       "         408161.5948,  510201.9935,  612242.3922,  714282.7909,\n",
       "         816323.1896,  918363.5883, 1020403.987 ]),\n",
       " <a list of 10 Patch objects>)"
      ]
     },
     "execution_count": 334,
     "metadata": {},
     "output_type": "execute_result"
    },
    {
     "data": {
      "image/png": "[encoded data removed]",
      "text/plain": [
       "<Figure size 432x288 with 1 Axes>"
      ]
     },
     "metadata": {},
     "output_type": "display_data"
    }
   ],
   "source": [
    "plt.hist(train['parking_price'])"
   ]
  },
  {
   "cell_type": "markdown",
   "metadata": {},
   "source": [
    "# txn_floor"
   ]
  },
  {
   "cell_type": "code",
   "execution_count": 335,
   "metadata": {},
   "outputs": [
    {
     "data": {
      "text/plain": [
       "count    44098.000000\n",
       "mean         5.389269\n",
       "std          3.944618\n",
       "min          1.000000\n",
       "25%          3.000000\n",
       "50%          4.000000\n",
       "75%          7.000000\n",
       "max         28.000000\n",
       "Name: txn_floor, dtype: float64"
      ]
     },
     "execution_count": 335,
     "metadata": {},
     "output_type": "execute_result"
    }
   ],
   "source": [
    "train['txn_floor'].describe()"
   ]
  },
  {
   "cell_type": "markdown",
   "metadata": {},
   "source": [
    "## 顯示50000筆資料中 有36790筆資料非遺漏值"
   ]
  },
  {
   "cell_type": "code",
   "execution_count": 336,
   "metadata": {},
   "outputs": [
    {
     "data": {
      "text/plain": [
       "(array([16900., 14294.,  5996.,  2896.,  2667.,   812.,   258.,   176.,\n",
       "           80.,    19.]),\n",
       " array([ 1. ,  3.7,  6.4,  9.1, 11.8, 14.5, 17.2, 19.9, 22.6, 25.3, 28. ]),\n",
       " <a list of 10 Patch objects>)"
      ]
     },
     "execution_count": 336,
     "metadata": {},
     "output_type": "execute_result"
    },
    {
     "data": {
      "image/png": "[encoded data removed]",
      "text/plain": [
       "<Figure size 432x288 with 1 Axes>"
      ]
     },
     "metadata": {},
     "output_type": "display_data"
    }
   ],
   "source": [
    "plt.hist(train['txn_floor'])"
   ]
  },
  {
   "cell_type": "markdown",
   "metadata": {},
   "source": [
    "## 經由討論後我們認為樓層為遺漏值可能代表為獨棟，因此我們最終決定將其NA直轉為另一個特徵處理"
   ]
  },
  {
   "cell_type": "code",
   "execution_count": 337,
   "metadata": {},
   "outputs": [],
   "source": [
    "train['txn_floor'] = train['txn_floor'].fillna('獨棟')"
   ]
  },
  {
   "cell_type": "code",
   "execution_count": 338,
   "metadata": {},
   "outputs": [
    {
     "data": {
      "text/plain": [
       "count     60000\n",
       "unique       29\n",
       "top          獨棟\n",
       "freq      15902\n",
       "Name: txn_floor, dtype: object"
      ]
     },
     "execution_count": 338,
     "metadata": {},
     "output_type": "execute_result"
    }
   ],
   "source": [
    "train['txn_floor'].describe()"
   ]
  },
  {
   "cell_type": "markdown",
   "metadata": {},
   "source": [
    "# village_income_median"
   ]
  },
  {
   "cell_type": "code",
   "execution_count": 339,
   "metadata": {},
   "outputs": [
    {
     "data": {
      "text/plain": [
       "count    58858.000000\n",
       "mean       674.840175\n",
       "std        140.653083\n",
       "min        411.000000\n",
       "25%        583.000000\n",
       "50%        642.000000\n",
       "75%        729.000000\n",
       "max       1851.000000\n",
       "Name: village_income_median, dtype: float64"
      ]
     },
     "execution_count": 339,
     "metadata": {},
     "output_type": "execute_result"
    }
   ],
   "source": [
    "train['village_income_median'].describe()"
   ]
  },
  {
   "cell_type": "markdown",
   "metadata": {},
   "source": [
    "## 顯示50000筆資料中 有49055筆資料非遺漏值"
   ]
  },
  {
   "cell_type": "code",
   "execution_count": 340,
   "metadata": {},
   "outputs": [
    {
     "data": {
      "text/plain": [
       "(array([ 7243., 32894., 13460.,  3685.,   948.,   267.,    67.,     0.,\n",
       "          171.,   123.]),\n",
       " array([ 411.,  555.,  699.,  843.,  987., 1131., 1275., 1419., 1563.,\n",
       "        1707., 1851.]),\n",
       " <a list of 10 Patch objects>)"
      ]
     },
     "execution_count": 340,
     "metadata": {},
     "output_type": "execute_result"
    },
    {
     "data": {
      "image/png": "[encoded data removed]",
      "text/plain": [
       "<Figure size 432x288 with 1 Axes>"
      ]
     },
     "metadata": {},
     "output_type": "display_data"
    }
   ],
   "source": [
    "plt.hist(train['village_income_median'])"
   ]
  },
  {
   "cell_type": "markdown",
   "metadata": {},
   "source": [
    "# 以眾數填入\n"
   ]
  },
  {
   "cell_type": "code",
   "execution_count": 341,
   "metadata": {},
   "outputs": [],
   "source": [
    "train['village_income_median'] = train['village_income_median'].fillna(train['village_income_median'].median())"
   ]
  },
  {
   "cell_type": "code",
   "execution_count": 342,
   "metadata": {},
   "outputs": [
    {
     "data": {
      "text/plain": [
       "(array([ 7243., 34036., 13460.,  3685.,   948.,   267.,    67.,     0.,\n",
       "          171.,   123.]),\n",
       " array([ 411.,  555.,  699.,  843.,  987., 1131., 1275., 1419., 1563.,\n",
       "        1707., 1851.]),\n",
       " <a list of 10 Patch objects>)"
      ]
     },
     "execution_count": 342,
     "metadata": {},
     "output_type": "execute_result"
    },
    {
     "data": {
      "image/png": "[encoded data removed]",
      "text/plain": [
       "<Figure size 432x288 with 1 Axes>"
      ]
     },
     "metadata": {},
     "output_type": "display_data"
    }
   ],
   "source": [
    "plt.hist(train['village_income_median'])"
   ]
  },
  {
   "cell_type": "code",
   "execution_count": 343,
   "metadata": {},
   "outputs": [
    {
     "data": {
      "text/plain": [
       "count    60000.000000\n",
       "mean       674.215117\n",
       "std        139.380337\n",
       "min        411.000000\n",
       "25%        584.000000\n",
       "50%        642.000000\n",
       "75%        728.000000\n",
       "max       1851.000000\n",
       "Name: village_income_median, dtype: float64"
      ]
     },
     "execution_count": 343,
     "metadata": {},
     "output_type": "execute_result"
    }
   ],
   "source": [
    "train['village_income_median'].describe()"
   ]
  },
  {
   "cell_type": "markdown",
   "metadata": {},
   "source": [
    "# 在train_data 上執行的資料在test_data要執行相同的動作"
   ]
  },
  {
   "cell_type": "markdown",
   "metadata": {},
   "source": [
    "## parking_area"
   ]
  },
  {
   "cell_type": "code",
   "execution_count": 344,
   "metadata": {},
   "outputs": [],
   "source": [
    "#test = test.drop('parking_area',axis=1)"
   ]
  },
  {
   "cell_type": "markdown",
   "metadata": {},
   "source": [
    "## parking_price"
   ]
  },
  {
   "cell_type": "code",
   "execution_count": 345,
   "metadata": {},
   "outputs": [],
   "source": [
    "#test[\"parking_price\"] = test[\"parking_price\"].fillna(0)"
   ]
  },
  {
   "cell_type": "markdown",
   "metadata": {},
   "source": [
    "## txn_floor"
   ]
  },
  {
   "cell_type": "code",
   "execution_count": 346,
   "metadata": {},
   "outputs": [],
   "source": [
    "#test['txn_floor'] = test['txn_floor'].fillna('獨棟')"
   ]
  },
  {
   "cell_type": "markdown",
   "metadata": {},
   "source": [
    "## village_income_median"
   ]
  },
  {
   "cell_type": "code",
   "execution_count": 347,
   "metadata": {},
   "outputs": [],
   "source": [
    "#test['village_income_median'] = test['village_income_median'].fillna(test['village_income_median'].median())"
   ]
  },
  {
   "cell_type": "markdown",
   "metadata": {},
   "source": [
    "## 將類別變數做one_hot_encoding"
   ]
  },
  {
   "cell_type": "markdown",
   "metadata": {},
   "source": [
    "# 用人工的方式找出類別變數有\n",
    "\n",
    "##  'building_material','city','building_type','building_use','parking_way','town','village', 'txn_floor'\n",
    "\n",
    "##  我們將city town village 組合成address"
   ]
  },
  {
   "cell_type": "code",
   "execution_count": 348,
   "metadata": {},
   "outputs": [],
   "source": [
    "list_dummy = [\"building_material\", 'building_type', 'building_use', 'parking_way','address','txn_floor']"
   ]
  },
  {
   "cell_type": "code",
   "execution_count": 349,
   "metadata": {},
   "outputs": [],
   "source": [
    "df = pd.DataFrame()\n",
    "col = []\n",
    "for i  in list_dummy :\n",
    "    #store = pd.get_dummies(train[i], prefix=i)\n",
    "    #store1 = pd.concat([a,store],axis=1)\n",
    "    #a = store1\n",
    "    col.append( pd.get_dummies(train[i], prefix=i))"
   ]
  },
  {
   "cell_type": "code",
   "execution_count": 350,
   "metadata": {},
   "outputs": [],
   "source": [
    "store =pd.concat(col,axis=1)\n",
    "\n",
    "train_full = pd.concat([train,store],axis=1)"
   ]
  },
  {
   "cell_type": "code",
   "execution_count": 351,
   "metadata": {},
   "outputs": [],
   "source": [
    "train_full.drop(list_dummy, axis=1,inplace=True)"
   ]
  },
  {
   "cell_type": "code",
   "execution_count": 352,
   "metadata": {},
   "outputs": [],
   "source": [
    "train_full.drop(['town','city','village'],axis=1,inplace=True)"
   ]
  },
  {
   "cell_type": "code",
   "execution_count": 353,
   "metadata": {},
   "outputs": [
    {
     "data": {
      "text/html": [
       "<div>\n",
       "<style scoped>\n",
       "    .dataframe tbody tr th:only-of-type {\n",
       "        vertical-align: middle;\n",
       "    }\n",
       "\n",
       "    .dataframe tbody tr th {\n",
       "        vertical-align: top;\n",
       "    }\n",
       "\n",
       "    .dataframe thead th {\n",
       "        text-align: right;\n",
       "    }\n",
       "</style>\n",
       "<table border=\"1\" class=\"dataframe\">\n",
       "  <thead>\n",
       "    <tr style=\"text-align: right;\">\n",
       "      <th></th>\n",
       "      <th>building_id</th>\n",
       "      <th>txn_dt</th>\n",
       "      <th>total_floor</th>\n",
       "      <th>building_complete_dt</th>\n",
       "      <th>parking_price</th>\n",
       "      <th>land_area</th>\n",
       "      <th>building_area</th>\n",
       "      <th>lat</th>\n",
       "      <th>lon</th>\n",
       "      <th>village_income_median</th>\n",
       "      <th>...</th>\n",
       "      <th>txn_floor_20.0</th>\n",
       "      <th>txn_floor_21.0</th>\n",
       "      <th>txn_floor_22.0</th>\n",
       "      <th>txn_floor_23.0</th>\n",
       "      <th>txn_floor_24.0</th>\n",
       "      <th>txn_floor_25.0</th>\n",
       "      <th>txn_floor_26.0</th>\n",
       "      <th>txn_floor_27.0</th>\n",
       "      <th>txn_floor_28.0</th>\n",
       "      <th>txn_floor_獨棟</th>\n",
       "    </tr>\n",
       "  </thead>\n",
       "  <tbody>\n",
       "    <tr>\n",
       "      <th>0</th>\n",
       "      <td>e3mMIMR3JJqCaXz1</td>\n",
       "      <td>18674</td>\n",
       "      <td>4</td>\n",
       "      <td>6271</td>\n",
       "      <td>0.00000</td>\n",
       "      <td>18.144460</td>\n",
       "      <td>3.418175</td>\n",
       "      <td>-39.14</td>\n",
       "      <td>117.08</td>\n",
       "      <td>572.0</td>\n",
       "      <td>...</td>\n",
       "      <td>0</td>\n",
       "      <td>0</td>\n",
       "      <td>0</td>\n",
       "      <td>0</td>\n",
       "      <td>0</td>\n",
       "      <td>0</td>\n",
       "      <td>0</td>\n",
       "      <td>0</td>\n",
       "      <td>0</td>\n",
       "      <td>0</td>\n",
       "    </tr>\n",
       "    <tr>\n",
       "      <th>1</th>\n",
       "      <td>LgwzgklNvy4QCtq5</td>\n",
       "      <td>18800</td>\n",
       "      <td>5</td>\n",
       "      <td>7885</td>\n",
       "      <td>0.00000</td>\n",
       "      <td>11.387227</td>\n",
       "      <td>4.041309</td>\n",
       "      <td>-37.66</td>\n",
       "      <td>119.28</td>\n",
       "      <td>550.0</td>\n",
       "      <td>...</td>\n",
       "      <td>0</td>\n",
       "      <td>0</td>\n",
       "      <td>0</td>\n",
       "      <td>0</td>\n",
       "      <td>0</td>\n",
       "      <td>0</td>\n",
       "      <td>0</td>\n",
       "      <td>0</td>\n",
       "      <td>0</td>\n",
       "      <td>0</td>\n",
       "    </tr>\n",
       "    <tr>\n",
       "      <th>2</th>\n",
       "      <td>ucIR2NLLsC3T650L</td>\n",
       "      <td>19289</td>\n",
       "      <td>4</td>\n",
       "      <td>6028</td>\n",
       "      <td>0.00000</td>\n",
       "      <td>21.426802</td>\n",
       "      <td>5.584279</td>\n",
       "      <td>-37.67</td>\n",
       "      <td>119.29</td>\n",
       "      <td>625.0</td>\n",
       "      <td>...</td>\n",
       "      <td>0</td>\n",
       "      <td>0</td>\n",
       "      <td>0</td>\n",
       "      <td>0</td>\n",
       "      <td>0</td>\n",
       "      <td>0</td>\n",
       "      <td>0</td>\n",
       "      <td>0</td>\n",
       "      <td>0</td>\n",
       "      <td>0</td>\n",
       "    </tr>\n",
       "    <tr>\n",
       "      <th>3</th>\n",
       "      <td>jre1pJhcQj91Kdky</td>\n",
       "      <td>20385</td>\n",
       "      <td>24</td>\n",
       "      <td>18325</td>\n",
       "      <td>81138.88976</td>\n",
       "      <td>11.387227</td>\n",
       "      <td>13.563031</td>\n",
       "      <td>-39.13</td>\n",
       "      <td>117.09</td>\n",
       "      <td>950.0</td>\n",
       "      <td>...</td>\n",
       "      <td>0</td>\n",
       "      <td>0</td>\n",
       "      <td>0</td>\n",
       "      <td>0</td>\n",
       "      <td>0</td>\n",
       "      <td>0</td>\n",
       "      <td>0</td>\n",
       "      <td>0</td>\n",
       "      <td>0</td>\n",
       "      <td>0</td>\n",
       "    </tr>\n",
       "    <tr>\n",
       "      <th>4</th>\n",
       "      <td>rQpYpY9nRG7X5mmr</td>\n",
       "      <td>20657</td>\n",
       "      <td>2</td>\n",
       "      <td>6880</td>\n",
       "      <td>0.00000</td>\n",
       "      <td>61.306524</td>\n",
       "      <td>4.688108</td>\n",
       "      <td>-39.24</td>\n",
       "      <td>117.19</td>\n",
       "      <td>536.0</td>\n",
       "      <td>...</td>\n",
       "      <td>0</td>\n",
       "      <td>0</td>\n",
       "      <td>0</td>\n",
       "      <td>0</td>\n",
       "      <td>0</td>\n",
       "      <td>0</td>\n",
       "      <td>0</td>\n",
       "      <td>0</td>\n",
       "      <td>0</td>\n",
       "      <td>1</td>\n",
       "    </tr>\n",
       "  </tbody>\n",
       "</table>\n",
       "<p>5 rows × 4526 columns</p>\n",
       "</div>"
      ],
      "text/plain": [
       "        building_id  txn_dt  total_floor  building_complete_dt  parking_price  \\\n",
       "0  e3mMIMR3JJqCaXz1   18674            4                  6271        0.00000   \n",
       "1  LgwzgklNvy4QCtq5   18800            5                  7885        0.00000   \n",
       "2  ucIR2NLLsC3T650L   19289            4                  6028        0.00000   \n",
       "3  jre1pJhcQj91Kdky   20385           24                 18325    81138.88976   \n",
       "4  rQpYpY9nRG7X5mmr   20657            2                  6880        0.00000   \n",
       "\n",
       "   land_area  building_area    lat     lon  village_income_median  ...  \\\n",
       "0  18.144460       3.418175 -39.14  117.08                  572.0  ...   \n",
       "1  11.387227       4.041309 -37.66  119.28                  550.0  ...   \n",
       "2  21.426802       5.584279 -37.67  119.29                  625.0  ...   \n",
       "3  11.387227      13.563031 -39.13  117.09                  950.0  ...   \n",
       "4  61.306524       4.688108 -39.24  117.19                  536.0  ...   \n",
       "\n",
       "   txn_floor_20.0  txn_floor_21.0  txn_floor_22.0  txn_floor_23.0  \\\n",
       "0               0               0               0               0   \n",
       "1               0               0               0               0   \n",
       "2               0               0               0               0   \n",
       "3               0               0               0               0   \n",
       "4               0               0               0               0   \n",
       "\n",
       "   txn_floor_24.0  txn_floor_25.0  txn_floor_26.0  txn_floor_27.0  \\\n",
       "0               0               0               0               0   \n",
       "1               0               0               0               0   \n",
       "2               0               0               0               0   \n",
       "3               0               0               0               0   \n",
       "4               0               0               0               0   \n",
       "\n",
       "   txn_floor_28.0  txn_floor_獨棟  \n",
       "0               0             0  \n",
       "1               0             0  \n",
       "2               0             0  \n",
       "3               0             0  \n",
       "4               0             1  \n",
       "\n",
       "[5 rows x 4526 columns]"
      ]
     },
     "execution_count": 353,
     "metadata": {},
     "output_type": "execute_result"
    }
   ],
   "source": [
    "train_full.head()"
   ]
  },
  {
   "cell_type": "code",
   "execution_count": 354,
   "metadata": {},
   "outputs": [],
   "source": [
    "#train_id = train_full.iloc[:,1]\n",
    "#train_full = train_full.iloc[:,1:]"
   ]
  },
  {
   "cell_type": "code",
   "execution_count": 355,
   "metadata": {},
   "outputs": [
    {
     "data": {
      "text/html": [
       "<div>\n",
       "<style scoped>\n",
       "    .dataframe tbody tr th:only-of-type {\n",
       "        vertical-align: middle;\n",
       "    }\n",
       "\n",
       "    .dataframe tbody tr th {\n",
       "        vertical-align: top;\n",
       "    }\n",
       "\n",
       "    .dataframe thead th {\n",
       "        text-align: right;\n",
       "    }\n",
       "</style>\n",
       "<table border=\"1\" class=\"dataframe\">\n",
       "  <thead>\n",
       "    <tr style=\"text-align: right;\">\n",
       "      <th></th>\n",
       "      <th>building_id</th>\n",
       "      <th>txn_dt</th>\n",
       "      <th>total_floor</th>\n",
       "      <th>building_complete_dt</th>\n",
       "      <th>parking_price</th>\n",
       "      <th>land_area</th>\n",
       "      <th>building_area</th>\n",
       "      <th>lat</th>\n",
       "      <th>lon</th>\n",
       "      <th>village_income_median</th>\n",
       "      <th>...</th>\n",
       "      <th>txn_floor_20.0</th>\n",
       "      <th>txn_floor_21.0</th>\n",
       "      <th>txn_floor_22.0</th>\n",
       "      <th>txn_floor_23.0</th>\n",
       "      <th>txn_floor_24.0</th>\n",
       "      <th>txn_floor_25.0</th>\n",
       "      <th>txn_floor_26.0</th>\n",
       "      <th>txn_floor_27.0</th>\n",
       "      <th>txn_floor_28.0</th>\n",
       "      <th>txn_floor_獨棟</th>\n",
       "    </tr>\n",
       "  </thead>\n",
       "  <tbody>\n",
       "    <tr>\n",
       "      <th>0</th>\n",
       "      <td>e3mMIMR3JJqCaXz1</td>\n",
       "      <td>18674</td>\n",
       "      <td>4</td>\n",
       "      <td>6271</td>\n",
       "      <td>0.00000</td>\n",
       "      <td>18.144460</td>\n",
       "      <td>3.418175</td>\n",
       "      <td>-39.14</td>\n",
       "      <td>117.08</td>\n",
       "      <td>572.0</td>\n",
       "      <td>...</td>\n",
       "      <td>0</td>\n",
       "      <td>0</td>\n",
       "      <td>0</td>\n",
       "      <td>0</td>\n",
       "      <td>0</td>\n",
       "      <td>0</td>\n",
       "      <td>0</td>\n",
       "      <td>0</td>\n",
       "      <td>0</td>\n",
       "      <td>0</td>\n",
       "    </tr>\n",
       "    <tr>\n",
       "      <th>1</th>\n",
       "      <td>LgwzgklNvy4QCtq5</td>\n",
       "      <td>18800</td>\n",
       "      <td>5</td>\n",
       "      <td>7885</td>\n",
       "      <td>0.00000</td>\n",
       "      <td>11.387227</td>\n",
       "      <td>4.041309</td>\n",
       "      <td>-37.66</td>\n",
       "      <td>119.28</td>\n",
       "      <td>550.0</td>\n",
       "      <td>...</td>\n",
       "      <td>0</td>\n",
       "      <td>0</td>\n",
       "      <td>0</td>\n",
       "      <td>0</td>\n",
       "      <td>0</td>\n",
       "      <td>0</td>\n",
       "      <td>0</td>\n",
       "      <td>0</td>\n",
       "      <td>0</td>\n",
       "      <td>0</td>\n",
       "    </tr>\n",
       "    <tr>\n",
       "      <th>2</th>\n",
       "      <td>ucIR2NLLsC3T650L</td>\n",
       "      <td>19289</td>\n",
       "      <td>4</td>\n",
       "      <td>6028</td>\n",
       "      <td>0.00000</td>\n",
       "      <td>21.426802</td>\n",
       "      <td>5.584279</td>\n",
       "      <td>-37.67</td>\n",
       "      <td>119.29</td>\n",
       "      <td>625.0</td>\n",
       "      <td>...</td>\n",
       "      <td>0</td>\n",
       "      <td>0</td>\n",
       "      <td>0</td>\n",
       "      <td>0</td>\n",
       "      <td>0</td>\n",
       "      <td>0</td>\n",
       "      <td>0</td>\n",
       "      <td>0</td>\n",
       "      <td>0</td>\n",
       "      <td>0</td>\n",
       "    </tr>\n",
       "    <tr>\n",
       "      <th>3</th>\n",
       "      <td>jre1pJhcQj91Kdky</td>\n",
       "      <td>20385</td>\n",
       "      <td>24</td>\n",
       "      <td>18325</td>\n",
       "      <td>81138.88976</td>\n",
       "      <td>11.387227</td>\n",
       "      <td>13.563031</td>\n",
       "      <td>-39.13</td>\n",
       "      <td>117.09</td>\n",
       "      <td>950.0</td>\n",
       "      <td>...</td>\n",
       "      <td>0</td>\n",
       "      <td>0</td>\n",
       "      <td>0</td>\n",
       "      <td>0</td>\n",
       "      <td>0</td>\n",
       "      <td>0</td>\n",
       "      <td>0</td>\n",
       "      <td>0</td>\n",
       "      <td>0</td>\n",
       "      <td>0</td>\n",
       "    </tr>\n",
       "    <tr>\n",
       "      <th>4</th>\n",
       "      <td>rQpYpY9nRG7X5mmr</td>\n",
       "      <td>20657</td>\n",
       "      <td>2</td>\n",
       "      <td>6880</td>\n",
       "      <td>0.00000</td>\n",
       "      <td>61.306524</td>\n",
       "      <td>4.688108</td>\n",
       "      <td>-39.24</td>\n",
       "      <td>117.19</td>\n",
       "      <td>536.0</td>\n",
       "      <td>...</td>\n",
       "      <td>0</td>\n",
       "      <td>0</td>\n",
       "      <td>0</td>\n",
       "      <td>0</td>\n",
       "      <td>0</td>\n",
       "      <td>0</td>\n",
       "      <td>0</td>\n",
       "      <td>0</td>\n",
       "      <td>0</td>\n",
       "      <td>1</td>\n",
       "    </tr>\n",
       "  </tbody>\n",
       "</table>\n",
       "<p>5 rows × 4526 columns</p>\n",
       "</div>"
      ],
      "text/plain": [
       "        building_id  txn_dt  total_floor  building_complete_dt  parking_price  \\\n",
       "0  e3mMIMR3JJqCaXz1   18674            4                  6271        0.00000   \n",
       "1  LgwzgklNvy4QCtq5   18800            5                  7885        0.00000   \n",
       "2  ucIR2NLLsC3T650L   19289            4                  6028        0.00000   \n",
       "3  jre1pJhcQj91Kdky   20385           24                 18325    81138.88976   \n",
       "4  rQpYpY9nRG7X5mmr   20657            2                  6880        0.00000   \n",
       "\n",
       "   land_area  building_area    lat     lon  village_income_median  ...  \\\n",
       "0  18.144460       3.418175 -39.14  117.08                  572.0  ...   \n",
       "1  11.387227       4.041309 -37.66  119.28                  550.0  ...   \n",
       "2  21.426802       5.584279 -37.67  119.29                  625.0  ...   \n",
       "3  11.387227      13.563031 -39.13  117.09                  950.0  ...   \n",
       "4  61.306524       4.688108 -39.24  117.19                  536.0  ...   \n",
       "\n",
       "   txn_floor_20.0  txn_floor_21.0  txn_floor_22.0  txn_floor_23.0  \\\n",
       "0               0               0               0               0   \n",
       "1               0               0               0               0   \n",
       "2               0               0               0               0   \n",
       "3               0               0               0               0   \n",
       "4               0               0               0               0   \n",
       "\n",
       "   txn_floor_24.0  txn_floor_25.0  txn_floor_26.0  txn_floor_27.0  \\\n",
       "0               0               0               0               0   \n",
       "1               0               0               0               0   \n",
       "2               0               0               0               0   \n",
       "3               0               0               0               0   \n",
       "4               0               0               0               0   \n",
       "\n",
       "   txn_floor_28.0  txn_floor_獨棟  \n",
       "0               0             0  \n",
       "1               0             0  \n",
       "2               0             0  \n",
       "3               0             0  \n",
       "4               0             1  \n",
       "\n",
       "[5 rows x 4526 columns]"
      ]
     },
     "execution_count": 355,
     "metadata": {},
     "output_type": "execute_result"
    }
   ],
   "source": [
    "train_full.head()"
   ]
  },
  {
   "cell_type": "markdown",
   "metadata": {},
   "source": [
    "## 去除離群值  ( 選擇Q3 *3 的位置)"
   ]
  },
  {
   "cell_type": "code",
   "execution_count": 241,
   "metadata": {},
   "outputs": [],
   "source": [
    "Q3_list = np.percentile(a,75,axis=0)\n",
    "Q1_list = np.percentile(a,25,axis=0)\n",
    "dif_q = Q3_list - Q1_list"
   ]
  },
  {
   "cell_type": "code",
   "execution_count": 243,
   "metadata": {},
   "outputs": [],
   "source": [
    "mask_top = a < (Q3_list + 2*dif_q)\n",
    "mask_buttom = a > (Q1_list - 2*dif_q)"
   ]
  },
  {
   "cell_type": "markdown",
   "metadata": {},
   "source": [
    "# 將整理完的檔案輸出成CSV檔"
   ]
  },
  {
   "cell_type": "code",
   "execution_count": 356,
   "metadata": {},
   "outputs": [],
   "source": [
    "train_full.to_csv('clean_train.csv')"
   ]
  },
  {
   "cell_type": "code",
   "execution_count": null,
   "metadata": {},
   "outputs": [],
   "source": []
  }
 ],
 "metadata": {
  "kernelspec": {
   "display_name": "Python 3",
   "language": "python",
   "name": "python3"
  },
  "language_info": {
   "codemirror_mode": {
    "name": "ipython",
    "version": 3
   },
   "file_extension": ".py",
   "mimetype": "text/x-python",
   "name": "python",
   "nbconvert_exporter": "python",
   "pygments_lexer": "ipython3",
   "version": "3.7.3"
  }
 },
 "nbformat": 4,
 "nbformat_minor": 2
}
